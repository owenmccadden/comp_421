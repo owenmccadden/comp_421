{
 "cells": [
  {
   "cell_type": "code",
   "execution_count": 1,
   "metadata": {},
   "outputs": [],
   "source": [
    "import requests\n",
    "import mysql.connector"
   ]
  },
  {
   "cell_type": "markdown",
   "metadata": {},
   "source": [
    "# Database Setup\n",
    "\n",
    "- This SQL will setup our appointments database in a fresh MySQL environment\n",
    "- Establishes the database connection using mysql.connector\n",
    "- Creates the appointments database and all tables"
   ]
  },
  {
   "cell_type": "code",
   "execution_count": 3,
   "metadata": {},
   "outputs": [
    {
     "data": {
      "text/plain": [
       "<generator object MySQLCursor._execute_iter at 0x7ff45ddcc6d0>"
      ]
     },
     "execution_count": 3,
     "metadata": {},
     "output_type": "execute_result"
    }
   ],
   "source": [
    "db = mysql.connector.connect(\n",
    "          host=\"localhost\",\n",
    "          user=\"\",\n",
    "          password=\"\"\n",
    "        )\n",
    "\n",
    "cursor = db.cursor()\n",
    "cursor.execute(\"\"\"\n",
    "CREATE DATABASE appointments\n",
    "SET SQL_MODE = \"NO_AUTO_VALUE_ON_ZERO\";\n",
    "START TRANSACTION;\n",
    "SET time_zone = \"+00:00\";\n",
    "\n",
    "\n",
    "/*!40101 SET @OLD_CHARACTER_SET_CLIENT=@@CHARACTER_SET_CLIENT */;\n",
    "/*!40101 SET @OLD_CHARACTER_SET_RESULTS=@@CHARACTER_SET_RESULTS */;\n",
    "/*!40101 SET @OLD_COLLATION_CONNECTION=@@COLLATION_CONNECTION */;\n",
    "/*!40101 SET NAMES utf8mb4 */;\n",
    "\n",
    "--\n",
    "-- Database: `appointments`\n",
    "--\n",
    "\n",
    "-- --------------------------------------------------------\n",
    "\n",
    "--\n",
    "-- Table structure for table `appointment`\n",
    "--\n",
    "\n",
    "CREATE TABLE `appointment` (\n",
    "  `AppointmentId` int(11) NOT NULL,\n",
    "  `AppointmentTime` datetime DEFAULT NULL,\n",
    "  `ServiceProviderId` int(11) DEFAULT NULL,\n",
    "  `CustomerId` int(11) DEFAULT NULL,\n",
    "  `ServiceId` int(11) NOT NULL\n",
    ") ENGINE=InnoDB DEFAULT CHARSET=utf8;\n",
    "\n",
    "--\n",
    "-- Dumping data for table `appointment`\n",
    "--\n",
    "\n",
    "INSERT INTO `appointment` (`AppointmentId`, `AppointmentTime`, `ServiceProviderId`, `CustomerId`, `ServiceId`) VALUES\n",
    "(1, '2022-01-18 10:30:00', 1, 1, 1),\n",
    "(2, '2022-01-20 09:00:00', 1, 3, 2);\n",
    "\n",
    "-- --------------------------------------------------------\n",
    "\n",
    "--\n",
    "-- Table structure for table `company`\n",
    "--\n",
    "\n",
    "CREATE TABLE `company` (\n",
    "  `CompanyId` int(11) NOT NULL,\n",
    "  `CompanyName` varchar(150) DEFAULT NULL,\n",
    "  `CompanyAddress` text\n",
    ") ENGINE=InnoDB DEFAULT CHARSET=utf8;\n",
    "\n",
    "--\n",
    "-- Dumping data for table `company`\n",
    "--\n",
    "\n",
    "INSERT INTO `company` (`CompanyId`, `CompanyName`, `CompanyAddress`) VALUES\n",
    "(1, 'Happy Spa', '123 Sesame Street, New York, NY 24744'),\n",
    "(2, 'Your Spa', '890 The Street Raleigh, NC 48844');\n",
    "\n",
    "-- --------------------------------------------------------\n",
    "\n",
    "--\n",
    "-- Table structure for table `customer`\n",
    "--\n",
    "\n",
    "CREATE TABLE `customer` (\n",
    "  `CustomerId` int(11) NOT NULL,\n",
    "  `FirstName` varchar(50) DEFAULT NULL,\n",
    "  `LastName` varchar(50) NOT NULL,\n",
    "  `CustomerPhoneNumber` varchar(15) DEFAULT NULL\n",
    ") ENGINE=InnoDB DEFAULT CHARSET=utf8;\n",
    "\n",
    "--\n",
    "-- Dumping data for table `customer`\n",
    "--\n",
    "\n",
    "INSERT INTO `customer` (`CustomerId`, `FirstName`, `LastName`, `CustomerPhoneNumber`) VALUES\n",
    "(1, 'Mary', 'Smith', '555 555 5555'),\n",
    "(2, 'John', 'Hunt', '555 555 5556'),\n",
    "(3, 'Jimmy', 'Jones', '555 555 5558'),\n",
    "(4, 'Mary', 'Smith', '777 777 8888'),\n",
    "(5, 'Mikaela', 'Swigg', '4155746848'),\n",
    "(6, 'Dalston', 'Schenfisch', '2666731572'),\n",
    "(7, 'Donalt', 'Crown', '5109404208'),\n",
    "(8, 'Tabatha', 'Plaid', '2062381450'),\n",
    "(9, 'Albertine', 'Broxup', '4641119563'),\n",
    "(10, 'Shannen', 'Gaskin', '4313702355'),\n",
    "(11, 'Weber', 'Allebone', '6462572363'),\n",
    "(12, 'Lanie', 'Arnould', '8215894787'),\n",
    "(13, 'Dari', 'Witcherley', '3375485325');\n",
    "\n",
    "-- --------------------------------------------------------\n",
    "\n",
    "--\n",
    "-- Table structure for table `customerorderdetails`\n",
    "--\n",
    "\n",
    "CREATE TABLE `customerorderdetails` (\n",
    "  `CustomerOrderDetailsId` int(11) NOT NULL,\n",
    "  `CustomerOrderId` int(11) NOT NULL,\n",
    "  `ServiceId` int(11) NOT NULL\n",
    ") ENGINE=InnoDB DEFAULT CHARSET=utf8;\n",
    "\n",
    "-- --------------------------------------------------------\n",
    "\n",
    "--\n",
    "-- Table structure for table `customerorders`\n",
    "--\n",
    "\n",
    "CREATE TABLE `customerorders` (\n",
    "  `CustomerOrderId` int(11) NOT NULL,\n",
    "  `Date` date NOT NULL,\n",
    "  `CustomerId` int(11) NOT NULL,\n",
    "  `CompanyId` int(11) NOT NULL,\n",
    "  `AppointmentId` int(11) NOT NULL\n",
    ") ENGINE=InnoDB DEFAULT CHARSET=utf8;\n",
    "\n",
    "-- --------------------------------------------------------\n",
    "\n",
    "--\n",
    "-- Table structure for table `serviceprovider`\n",
    "--\n",
    "\n",
    "CREATE TABLE `serviceprovider` (\n",
    "  `ServiceProviderId` int(11) NOT NULL,\n",
    "  `ProviderName` varchar(150) DEFAULT NULL,\n",
    "  `CompanyId` int(11) DEFAULT NULL\n",
    ") ENGINE=InnoDB DEFAULT CHARSET=utf8;\n",
    "\n",
    "--\n",
    "-- Dumping data for table `serviceprovider`\n",
    "--\n",
    "\n",
    "INSERT INTO `serviceprovider` (`ServiceProviderId`, `ProviderName`, `CompanyId`) VALUES\n",
    "(1, 'Jenny', 1),\n",
    "(2, 'Jenny', 2);\n",
    "\n",
    "-- --------------------------------------------------------\n",
    "\n",
    "--\n",
    "-- Table structure for table `services`\n",
    "--\n",
    "\n",
    "CREATE TABLE `services` (\n",
    "  `ServiceId` int(11) NOT NULL,\n",
    "  `ServiceName` text NOT NULL,\n",
    "  `Cost` int(11) NOT NULL,\n",
    "  `Duration` int(11) NOT NULL,\n",
    "  `CompanyId` int(11) NOT NULL\n",
    ") ENGINE=InnoDB DEFAULT CHARSET=utf8;\n",
    "\n",
    "--\n",
    "-- Dumping data for table `services`\n",
    "--\n",
    "\n",
    "INSERT INTO `services` (`ServiceId`, `ServiceName`, `Cost`, `Duration`, `CompanyId`) VALUES\n",
    "(1, '60-minute Massage', 70, 60, 1),\n",
    "(2, '60-minute Facial', 100, 60, 2),\n",
    "(3, '30-minute Facial', 50, 30, 1),\n",
    "(4, '90-minute Massage', 150, 90, 1),\n",
    "(5, '75-Minute Massage', 150, 75, 2);\n",
    "\n",
    "--\n",
    "-- Indexes for dumped tables\n",
    "--\n",
    "\n",
    "--\n",
    "-- Indexes for table `appointment`\n",
    "--\n",
    "ALTER TABLE `appointment`\n",
    "  ADD PRIMARY KEY (`AppointmentId`),\n",
    "  ADD KEY `CustomerId` (`CustomerId`),\n",
    "  ADD KEY `ServiceProviderId` (`ServiceProviderId`);\n",
    "\n",
    "--\n",
    "-- Indexes for table `company`\n",
    "--\n",
    "ALTER TABLE `company`\n",
    "  ADD PRIMARY KEY (`CompanyId`);\n",
    "\n",
    "--\n",
    "-- Indexes for table `customer`\n",
    "--\n",
    "ALTER TABLE `customer`\n",
    "  ADD PRIMARY KEY (`CustomerId`);\n",
    "\n",
    "--\n",
    "-- Indexes for table `customerorders`\n",
    "--\n",
    "ALTER TABLE `customerorders`\n",
    "  ADD PRIMARY KEY (`CustomerOrderId`);\n",
    "\n",
    "\n",
    "Alter TABLE 'customerorderdetails'\n",
    "  ADD PRIMARY KEY (`CustomerOrderDetailsId`);\n",
    "\n",
    "--\n",
    "-- Indexes for table `serviceprovider`\n",
    "--\n",
    "ALTER TABLE `serviceprovider`\n",
    "  ADD PRIMARY KEY (`ServiceProviderId`),\n",
    "  ADD KEY `CompanyId` (`CompanyId`);\n",
    "\n",
    "--\n",
    "-- Indexes for table `services`\n",
    "--\n",
    "ALTER TABLE `services`\n",
    "  ADD PRIMARY KEY (`ServiceId`);\n",
    "\n",
    "--\n",
    "-- AUTO_INCREMENT for dumped tables\n",
    "--\n",
    "\n",
    "--\n",
    "-- AUTO_INCREMENT for table `appointment`\n",
    "--\n",
    "ALTER TABLE `appointment`\n",
    "  MODIFY `AppointmentId` int(11) NOT NULL AUTO_INCREMENT, AUTO_INCREMENT=3;\n",
    "\n",
    "--\n",
    "-- AUTO_INCREMENT for table `company`\n",
    "--\n",
    "ALTER TABLE `company`\n",
    "  MODIFY `CompanyId` int(11) NOT NULL AUTO_INCREMENT, AUTO_INCREMENT=3;\n",
    "\n",
    "--\n",
    "-- AUTO_INCREMENT for table `customer`\n",
    "--\n",
    "ALTER TABLE `customer`\n",
    "  MODIFY `CustomerId` int(11) NOT NULL AUTO_INCREMENT, AUTO_INCREMENT=14;\n",
    "\n",
    "--\n",
    "-- AUTO_INCREMENT for table `customerorders`\n",
    "--\n",
    "ALTER TABLE `customerorders`\n",
    "  MODIFY `CustomerOrderId` int(11) NOT NULL AUTO_INCREMENT;\n",
    "\n",
    "ALTER TABLE `customerorderdetails`\n",
    "  MODIFY `CustomerOrderId` int(11) NOT NULL AUTO_INCREMENT;\n",
    "\n",
    "--\n",
    "-- AUTO_INCREMENT for table `serviceprovider`\n",
    "--\n",
    "ALTER TABLE `serviceprovider`\n",
    "  MODIFY `ServiceProviderId` int(11) NOT NULL AUTO_INCREMENT, AUTO_INCREMENT=3;\n",
    "\n",
    "--\n",
    "-- AUTO_INCREMENT for table `services`\n",
    "--\n",
    "ALTER TABLE `services`\n",
    "  MODIFY `ServiceId` int(11) NOT NULL AUTO_INCREMENT, AUTO_INCREMENT=6;\n",
    "\n",
    "--\n",
    "-- Constraints for dumped tables\n",
    "--\n",
    "\n",
    "--\n",
    "-- Constraints for table `appointment`\n",
    "--\n",
    "ALTER TABLE `appointment`\n",
    "  ADD CONSTRAINT `appointment_ibfk_1` FOREIGN KEY (`CustomerId`) REFERENCES `customer` (`CustomerId`),\n",
    "  ADD CONSTRAINT `appointment_ibfk_2` FOREIGN KEY (`ServiceProviderId`) REFERENCES `serviceprovider` (`ServiceProviderId`),\n",
    "  ADD CONSTRAINT `appointment_ibfk_3` FOREIGN KEY (`ServiceId`) REFERENCES `services` (`ServiceId`);\n",
    "\n",
    "--\n",
    "-- Constraints for table `serviceprovider`\n",
    "--\n",
    "ALTER TABLE `serviceprovider`\n",
    "  ADD CONSTRAINT `serviceprovider_ibfk_1` FOREIGN KEY (`CompanyId`) REFERENCES `company` (`CompanyId`);\n",
    "  \n",
    "--\n",
    "-- Constraints for table `services`\n",
    "--\n",
    "ALTER TABLE `services`\n",
    "  ADD CONSTRAINT `services_ibfk_1` FOREIGN KEY (`CompanyId`) REFERENCES `company` (`CompanyId`);\n",
    "  \n",
    "  --\n",
    "-- Constraints for table `customerorderdetails``\n",
    "--\n",
    "ALTER TABLE `customerorderdetails`\n",
    "  ADD CONSTRAINT `customerorderdetails_ibfk_1` FOREIGN KEY (`ServiceId`) REFERENCES `services` (`ServiceId`),\n",
    "  ADD CONSTRAINT `customerorderdetails_ibfk_2` FOREIGN KEY (`CustomerOrderId`) REFERENCES `customerorders` (`CustomerOrderId`);\n",
    "  \n",
    "  \n",
    "  \n",
    "  \n",
    "COMMIT;\n",
    "\n",
    "/*!40101 SET CHARACTER_SET_CLIENT=@OLD_CHARACTER_SET_CLIENT */;\n",
    "/*!40101 SET CHARACTER_SET_RESULTS=@OLD_CHARACTER_SET_RESULTS */;\n",
    "/*!40101 SET COLLATION_CONNECTION=@OLD_COLLATION_CONNECTION */;\n",
    "\n",
    "\n",
    "-- write a query to insert an entry into the customer order details table given only the order date, customer id, company id, and appointment id\n",
    "\n",
    "INSERT INTO customerorderdetails (CustomerOrderId, ServiceId, AppointmentId) VALUES (1, 1, 1);\n",
    "\n",
    "\"\"\", multi=True)\n",
    "\n"
   ]
  },
  {
   "cell_type": "markdown",
   "metadata": {},
   "source": [
    "# ORM Class Implementation\n",
    "\n",
    "- ORM class creates a database connection and builds a dictionary that maps table names to table objects\n",
    "- A reference to the database connection is passed to each table object\n",
    "- Each table object can be refereneced from the ORM object using the tables dictionary with the table name as the key\n",
    "- The ORM class constructor modifies the table properties to account for foreign keys\n",
    "    - after the table objects are created, the constructor iterates through the table objects and makes a call to the foriegn key relationship endpoint\n",
    "    - if a table property is a foreign key, then the value in the table properties dictionary is set to a reference to the table object being referenced by the foreign key, otherwise the value is None"
   ]
  },
  {
   "cell_type": "code",
   "execution_count": 59,
   "metadata": {},
   "outputs": [],
   "source": [
    "class ORM:\n",
    "    def __init__(self, host=\"\", username=\"\", password=\"\", database=\"\"):\n",
    "        self.db = mysql.connector.connect(host=host, user=username, password=password, database=database)\n",
    "        self.tables = {table['table_name']: Table(table['table_name'], self.db) for table in requests.get(\"http://appthero.me/index.php/tables/list\", headers={\"User-Agent\": \"XY\"}).json()}\n",
    "        for table in self.tables:\n",
    "            for response in requests.get(\"http://appthero.me/index.php/fks/list/{}\".format(table), headers={\"User-Agent\": \"XY\"}).json():\n",
    "                  self.tables[response['TABLE_NAME']].properties[response['COLUMN_NAME']] = self.tables[table]"
   ]
  },
  {
   "cell_type": "markdown",
   "metadata": {},
   "source": [
    "# Table Class Implementation\n",
    "- Table class stores a reference to the table name, database connection, table properties, table columns, and primary key\n",
    "- getAll method returns all items for the table\n",
    "- get method returns items where a given column name matches a given value\n",
    "- all properties are initialized to None, but foreign keys are replaced by references to the table object to which the foreign key refers within the ORM constructor"
   ]
  },
  {
   "cell_type": "code",
   "execution_count": 60,
   "metadata": {},
   "outputs": [],
   "source": [
    "class Table:\n",
    "    def __init__(self, name, db):\n",
    "        self.name = name\n",
    "        self.db = db\n",
    "        self.properties = {column['COLUMN_NAME']: None for column in requests.get(\"http://appthero.me/index.php/columns/list/{}\".format(self.name), headers={\"User-Agent\": \"XY\"}).json()}\n",
    "        self.columns = {column['COLUMN_NAME']: column for column in requests.get(\"http://appthero.me/index.php/columns/list/{}\".format(self.name), headers={\"User-Agent\": \"XY\"}).json()}\n",
    "        for column in self.columns:\n",
    "            if self.columns[column]['COLUMN_KEY'] == 'PRI':\n",
    "                self.primaryKey = self.columns[column]['COLUMN_NAME']\n",
    "                \n",
    "    def getAll(self):\n",
    "        sql = 'SELECT * FROM {0}'.format(self.name)\n",
    "        cursor = self.db.cursor()\n",
    "        cursor.execute(sql)\n",
    "        return cursor.fetchall()\n",
    "        \n",
    "    def get(self, primaryKey, value):\n",
    "        sql = 'SELECT * FROM {0} where {1} = {2}'.format(self.name, primaryKey, value)\n",
    "        cursor = self.db.cursor()\n",
    "        cursor.execute(sql)\n",
    "        return cursor.fetchall()\n",
    "    \n",
    "    "
   ]
  },
  {
   "cell_type": "markdown",
   "metadata": {},
   "source": [
    "# Testing the ORM Class\n",
    "- Here I create an ORM object named test\n",
    "- I leave the username and password as empty strings, but this is where you would enter your own username and password"
   ]
  },
  {
   "cell_type": "code",
   "execution_count": 61,
   "metadata": {},
   "outputs": [],
   "source": [
    "test = ORM(\"localhost\", \"\", \"\", \"appointments\")"
   ]
  },
  {
   "cell_type": "markdown",
   "metadata": {},
   "source": [
    "### Calling getAll() for each Table"
   ]
  },
  {
   "cell_type": "code",
   "execution_count": 62,
   "metadata": {},
   "outputs": [
    {
     "name": "stdout",
     "output_type": "stream",
     "text": [
      "appointment\n",
      "[(1, datetime.datetime(2022, 1, 18, 10, 30), 1, 1, 1), (2, datetime.datetime(2022, 1, 20, 9, 0), 1, 3, 2)]\n",
      "\n",
      "company\n",
      "[(1, 'Happy Spa', '123 Sesame Street, New York, NY 24744'), (2, 'Your Spa', '890 The Street Raleigh, NC 48844')]\n",
      "\n",
      "customer\n",
      "[(1, 'Mary', 'Smith', '555 555 5555'), (2, 'John', 'Hunt', '555 555 5556'), (3, 'Jimmy', 'Jones', '555 555 5558'), (4, 'Mary', 'Smith', '777 777 8888'), (5, 'Mikaela', 'Swigg', '4155746848'), (6, 'Dalston', 'Schenfisch', '2666731572'), (7, 'Donalt', 'Crown', '5109404208'), (8, 'Tabatha', 'Plaid', '2062381450'), (9, 'Albertine', 'Broxup', '4641119563'), (10, 'Shannen', 'Gaskin', '4313702355'), (11, 'Weber', 'Allebone', '6462572363'), (12, 'Lanie', 'Arnould', '8215894787'), (13, 'Dari', 'Witcherley', '3375485325')]\n",
      "\n",
      "customerorderdetails\n",
      "[]\n",
      "\n",
      "customerorders\n",
      "[]\n",
      "\n",
      "serviceprovider\n",
      "[(1, 'Jenny', 1), (2, 'Jenny', 2)]\n",
      "\n",
      "services\n",
      "[(1, '60-minute Massage', 70, 60, 1), (2, '60-minute Facial', 100, 60, 2), (3, '30-minute Facial', 50, 30, 1), (4, '90-minute Massage', 150, 90, 1), (5, '75-Minute Massage', 150, 75, 2)]\n",
      "\n"
     ]
    }
   ],
   "source": [
    "for table in test.tables:\n",
    "    print(test.tables[table].name)\n",
    "    print(test.tables[table].getAll())\n",
    "    print('')"
   ]
  },
  {
   "cell_type": "markdown",
   "metadata": {},
   "source": [
    "### Calling Get all for Specific Tables"
   ]
  },
  {
   "cell_type": "code",
   "execution_count": 63,
   "metadata": {},
   "outputs": [
    {
     "data": {
      "text/plain": [
       "[(1, '60-minute Massage', 70, 60, 1),\n",
       " (2, '60-minute Facial', 100, 60, 2),\n",
       " (3, '30-minute Facial', 50, 30, 1),\n",
       " (4, '90-minute Massage', 150, 90, 1),\n",
       " (5, '75-Minute Massage', 150, 75, 2)]"
      ]
     },
     "execution_count": 63,
     "metadata": {},
     "output_type": "execute_result"
    }
   ],
   "source": [
    "test.tables['services'].getAll()"
   ]
  },
  {
   "cell_type": "code",
   "execution_count": 64,
   "metadata": {},
   "outputs": [
    {
     "data": {
      "text/plain": [
       "[(1, 'Mary', 'Smith', '555 555 5555'),\n",
       " (2, 'John', 'Hunt', '555 555 5556'),\n",
       " (3, 'Jimmy', 'Jones', '555 555 5558'),\n",
       " (4, 'Mary', 'Smith', '777 777 8888'),\n",
       " (5, 'Mikaela', 'Swigg', '4155746848'),\n",
       " (6, 'Dalston', 'Schenfisch', '2666731572'),\n",
       " (7, 'Donalt', 'Crown', '5109404208'),\n",
       " (8, 'Tabatha', 'Plaid', '2062381450'),\n",
       " (9, 'Albertine', 'Broxup', '4641119563'),\n",
       " (10, 'Shannen', 'Gaskin', '4313702355'),\n",
       " (11, 'Weber', 'Allebone', '6462572363'),\n",
       " (12, 'Lanie', 'Arnould', '8215894787'),\n",
       " (13, 'Dari', 'Witcherley', '3375485325')]"
      ]
     },
     "execution_count": 64,
     "metadata": {},
     "output_type": "execute_result"
    }
   ],
   "source": [
    "test.tables['customer'].getAll()"
   ]
  },
  {
   "cell_type": "markdown",
   "metadata": {},
   "source": [
    "### Calling Get for each Table with the Table Primary Key and a Value of 1"
   ]
  },
  {
   "cell_type": "code",
   "execution_count": 65,
   "metadata": {},
   "outputs": [
    {
     "name": "stdout",
     "output_type": "stream",
     "text": [
      "appointment\n",
      "[(1, datetime.datetime(2022, 1, 18, 10, 30), 1, 1, 1)]\n",
      "\n",
      "company\n",
      "[(1, 'Happy Spa', '123 Sesame Street, New York, NY 24744')]\n",
      "\n",
      "customer\n",
      "[(1, 'Mary', 'Smith', '555 555 5555')]\n",
      "\n",
      "customerorderdetails\n",
      "[]\n",
      "\n",
      "customerorders\n",
      "[]\n",
      "\n",
      "serviceprovider\n",
      "[(1, 'Jenny', 1)]\n",
      "\n",
      "services\n",
      "[(1, '60-minute Massage', 70, 60, 1)]\n",
      "\n"
     ]
    }
   ],
   "source": [
    "for table in test.tables:\n",
    "    print(test.tables[table].name)\n",
    "    print(test.tables[table].get(test.tables[table].primaryKey, 1))\n",
    "    print('')"
   ]
  },
  {
   "cell_type": "markdown",
   "metadata": {},
   "source": [
    "### Calling Get for the appointment Table with Different Columns"
   ]
  },
  {
   "cell_type": "code",
   "execution_count": 66,
   "metadata": {},
   "outputs": [
    {
     "data": {
      "text/plain": [
       "[(1, datetime.datetime(2022, 1, 18, 10, 30), 1, 1, 1)]"
      ]
     },
     "execution_count": 66,
     "metadata": {},
     "output_type": "execute_result"
    }
   ],
   "source": [
    "test.tables['appointment'].get(\"AppointmentId\", 1)"
   ]
  },
  {
   "cell_type": "code",
   "execution_count": 67,
   "metadata": {},
   "outputs": [
    {
     "data": {
      "text/plain": [
       "[(1, datetime.datetime(2022, 1, 18, 10, 30), 1, 1, 1),\n",
       " (2, datetime.datetime(2022, 1, 20, 9, 0), 1, 3, 2)]"
      ]
     },
     "execution_count": 67,
     "metadata": {},
     "output_type": "execute_result"
    }
   ],
   "source": [
    "test.tables['appointment'].get(\"ServiceProviderId\", 1)"
   ]
  },
  {
   "cell_type": "code",
   "execution_count": 68,
   "metadata": {},
   "outputs": [
    {
     "data": {
      "text/plain": [
       "[(1, datetime.datetime(2022, 1, 18, 10, 30), 1, 1, 1)]"
      ]
     },
     "execution_count": 68,
     "metadata": {},
     "output_type": "execute_result"
    }
   ],
   "source": [
    "test.tables['appointment'].get(\"CustomerId\", 1)"
   ]
  },
  {
   "cell_type": "code",
   "execution_count": 69,
   "metadata": {},
   "outputs": [
    {
     "data": {
      "text/plain": [
       "[(2, datetime.datetime(2022, 1, 20, 9, 0), 1, 3, 2)]"
      ]
     },
     "execution_count": 69,
     "metadata": {},
     "output_type": "execute_result"
    }
   ],
   "source": [
    "test.tables['appointment'].get(\"ServiceId\", 2)"
   ]
  },
  {
   "cell_type": "markdown",
   "metadata": {},
   "source": [
    "### Printing the Column Data for each Table"
   ]
  },
  {
   "cell_type": "code",
   "execution_count": 70,
   "metadata": {},
   "outputs": [
    {
     "name": "stdout",
     "output_type": "stream",
     "text": [
      "appointment\n",
      "\n",
      "\tAppointmentId\n",
      "{'COLUMN_NAME': 'AppointmentId', 'DATA_TYPE': 'int', 'COLUMN_KEY': 'PRI', 'COLUMN_TYPE': 'int(11)', 'EXTRA': 'auto_increment'}\n",
      "\n",
      "\tAppointmentTime\n",
      "{'COLUMN_NAME': 'AppointmentTime', 'DATA_TYPE': 'datetime', 'COLUMN_KEY': '', 'COLUMN_TYPE': 'datetime', 'EXTRA': ''}\n",
      "\n",
      "\tServiceProviderId\n",
      "{'COLUMN_NAME': 'ServiceProviderId', 'DATA_TYPE': 'int', 'COLUMN_KEY': 'MUL', 'COLUMN_TYPE': 'int(11)', 'EXTRA': ''}\n",
      "\n",
      "\tCustomerId\n",
      "{'COLUMN_NAME': 'CustomerId', 'DATA_TYPE': 'int', 'COLUMN_KEY': 'MUL', 'COLUMN_TYPE': 'int(11)', 'EXTRA': ''}\n",
      "\n",
      "\tServiceId\n",
      "{'COLUMN_NAME': 'ServiceId', 'DATA_TYPE': 'int', 'COLUMN_KEY': 'MUL', 'COLUMN_TYPE': 'int(11)', 'EXTRA': ''}\n",
      "\n",
      "\n",
      "company\n",
      "\n",
      "\tCompanyId\n",
      "{'COLUMN_NAME': 'CompanyId', 'DATA_TYPE': 'int', 'COLUMN_KEY': 'PRI', 'COLUMN_TYPE': 'int(11)', 'EXTRA': 'auto_increment'}\n",
      "\n",
      "\tCompanyName\n",
      "{'COLUMN_NAME': 'CompanyName', 'DATA_TYPE': 'varchar', 'COLUMN_KEY': '', 'COLUMN_TYPE': 'varchar(150)', 'EXTRA': ''}\n",
      "\n",
      "\tCompanyAddress\n",
      "{'COLUMN_NAME': 'CompanyAddress', 'DATA_TYPE': 'text', 'COLUMN_KEY': '', 'COLUMN_TYPE': 'text', 'EXTRA': ''}\n",
      "\n",
      "\n",
      "customer\n",
      "\n",
      "\tCustomerId\n",
      "{'COLUMN_NAME': 'CustomerId', 'DATA_TYPE': 'int', 'COLUMN_KEY': 'PRI', 'COLUMN_TYPE': 'int(11)', 'EXTRA': 'auto_increment'}\n",
      "\n",
      "\tFirstName\n",
      "{'COLUMN_NAME': 'FirstName', 'DATA_TYPE': 'varchar', 'COLUMN_KEY': '', 'COLUMN_TYPE': 'varchar(50)', 'EXTRA': ''}\n",
      "\n",
      "\tLastName\n",
      "{'COLUMN_NAME': 'LastName', 'DATA_TYPE': 'varchar', 'COLUMN_KEY': '', 'COLUMN_TYPE': 'varchar(50)', 'EXTRA': ''}\n",
      "\n",
      "\tCustomerPhoneNumber\n",
      "{'COLUMN_NAME': 'CustomerPhoneNumber', 'DATA_TYPE': 'varchar', 'COLUMN_KEY': '', 'COLUMN_TYPE': 'varchar(15)', 'EXTRA': ''}\n",
      "\n",
      "\n",
      "customerorderdetails\n",
      "\n",
      "\tCustomerOrderDetailsId\n",
      "{'COLUMN_NAME': 'CustomerOrderDetailsId', 'DATA_TYPE': 'int', 'COLUMN_KEY': 'PRI', 'COLUMN_TYPE': 'int(11)', 'EXTRA': 'auto_increment'}\n",
      "\n",
      "\tCustomerOrderId\n",
      "{'COLUMN_NAME': 'CustomerOrderId', 'DATA_TYPE': 'int', 'COLUMN_KEY': 'MUL', 'COLUMN_TYPE': 'int(11)', 'EXTRA': ''}\n",
      "\n",
      "\tServiceId\n",
      "{'COLUMN_NAME': 'ServiceId', 'DATA_TYPE': 'int', 'COLUMN_KEY': 'MUL', 'COLUMN_TYPE': 'int(11)', 'EXTRA': ''}\n",
      "\n",
      "\n",
      "customerorders\n",
      "\n",
      "\tCustomerOrderId\n",
      "{'COLUMN_NAME': 'CustomerOrderId', 'DATA_TYPE': 'int', 'COLUMN_KEY': 'PRI', 'COLUMN_TYPE': 'int(11)', 'EXTRA': 'auto_increment'}\n",
      "\n",
      "\tDate\n",
      "{'COLUMN_NAME': 'Date', 'DATA_TYPE': 'date', 'COLUMN_KEY': '', 'COLUMN_TYPE': 'date', 'EXTRA': ''}\n",
      "\n",
      "\tCustomerId\n",
      "{'COLUMN_NAME': 'CustomerId', 'DATA_TYPE': 'int', 'COLUMN_KEY': '', 'COLUMN_TYPE': 'int(11)', 'EXTRA': ''}\n",
      "\n",
      "\tCompanyId\n",
      "{'COLUMN_NAME': 'CompanyId', 'DATA_TYPE': 'int', 'COLUMN_KEY': '', 'COLUMN_TYPE': 'int(11)', 'EXTRA': ''}\n",
      "\n",
      "\tAppointmentId\n",
      "{'COLUMN_NAME': 'AppointmentId', 'DATA_TYPE': 'int', 'COLUMN_KEY': '', 'COLUMN_TYPE': 'int(11)', 'EXTRA': ''}\n",
      "\n",
      "\n",
      "serviceprovider\n",
      "\n",
      "\tServiceProviderId\n",
      "{'COLUMN_NAME': 'ServiceProviderId', 'DATA_TYPE': 'int', 'COLUMN_KEY': 'PRI', 'COLUMN_TYPE': 'int(11)', 'EXTRA': 'auto_increment'}\n",
      "\n",
      "\tProviderName\n",
      "{'COLUMN_NAME': 'ProviderName', 'DATA_TYPE': 'varchar', 'COLUMN_KEY': '', 'COLUMN_TYPE': 'varchar(150)', 'EXTRA': ''}\n",
      "\n",
      "\tCompanyId\n",
      "{'COLUMN_NAME': 'CompanyId', 'DATA_TYPE': 'int', 'COLUMN_KEY': 'MUL', 'COLUMN_TYPE': 'int(11)', 'EXTRA': ''}\n",
      "\n",
      "\n",
      "services\n",
      "\n",
      "\tServiceId\n",
      "{'COLUMN_NAME': 'ServiceId', 'DATA_TYPE': 'int', 'COLUMN_KEY': 'PRI', 'COLUMN_TYPE': 'int(11)', 'EXTRA': 'auto_increment'}\n",
      "\n",
      "\tServiceName\n",
      "{'COLUMN_NAME': 'ServiceName', 'DATA_TYPE': 'text', 'COLUMN_KEY': '', 'COLUMN_TYPE': 'text', 'EXTRA': ''}\n",
      "\n",
      "\tCost\n",
      "{'COLUMN_NAME': 'Cost', 'DATA_TYPE': 'int', 'COLUMN_KEY': '', 'COLUMN_TYPE': 'int(11)', 'EXTRA': ''}\n",
      "\n",
      "\tDuration\n",
      "{'COLUMN_NAME': 'Duration', 'DATA_TYPE': 'int', 'COLUMN_KEY': '', 'COLUMN_TYPE': 'int(11)', 'EXTRA': ''}\n",
      "\n",
      "\tCompanyId\n",
      "{'COLUMN_NAME': 'CompanyId', 'DATA_TYPE': 'int', 'COLUMN_KEY': 'MUL', 'COLUMN_TYPE': 'int(11)', 'EXTRA': ''}\n",
      "\n",
      "\n"
     ]
    }
   ],
   "source": [
    "for table in test.tables:\n",
    "    print(test.tables[table].name)\n",
    "    print('')\n",
    "    for column in test.tables[table].columns:\n",
    "        print(\"\\t{}\".format(test.tables[table].columns[column]['COLUMN_NAME']))\n",
    "        print(\"{}\".format(test.tables[table].columns[column]))\n",
    "        print('')\n",
    "    print('')"
   ]
  },
  {
   "cell_type": "markdown",
   "metadata": {},
   "source": [
    "### Accessign and Modifying Properties\n",
    "- I created a dictionary that maps the column name to the property value\n",
    "- By default I set the default value for each property as None\n",
    "- Since I used a dictionary, the values can be accessed and modified without getters and setters"
   ]
  },
  {
   "cell_type": "code",
   "execution_count": 71,
   "metadata": {},
   "outputs": [
    {
     "name": "stdout",
     "output_type": "stream",
     "text": [
      "appointment {'AppointmentId': None, 'AppointmentTime': None, 'ServiceProviderId': <__main__.Table object at 0x7f9c76c3e090>, 'CustomerId': <__main__.Table object at 0x7f9c76cd88d0>, 'ServiceId': <__main__.Table object at 0x7f9c76c3b090>}\n",
      "company {'CompanyId': None, 'CompanyName': None, 'CompanyAddress': None}\n",
      "customer {'CustomerId': None, 'FirstName': None, 'LastName': None, 'CustomerPhoneNumber': None}\n",
      "customerorderdetails {'CustomerOrderDetailsId': None, 'CustomerOrderId': <__main__.Table object at 0x7f9c76ee5790>, 'ServiceId': <__main__.Table object at 0x7f9c76c3b090>}\n",
      "customerorders {'CustomerOrderId': None, 'Date': None, 'CustomerId': None, 'CompanyId': None, 'AppointmentId': None}\n",
      "serviceprovider {'ServiceProviderId': None, 'ProviderName': None, 'CompanyId': <__main__.Table object at 0x7f9c76ee0d10>}\n",
      "services {'ServiceId': None, 'ServiceName': None, 'Cost': None, 'Duration': None, 'CompanyId': <__main__.Table object at 0x7f9c76ee0d10>}\n"
     ]
    }
   ],
   "source": [
    "for table in test.tables:\n",
    "    print(table, test.tables[table].properties)"
   ]
  },
  {
   "cell_type": "markdown",
   "metadata": {},
   "source": [
    "#### Get CompanyName property from company table"
   ]
  },
  {
   "cell_type": "code",
   "execution_count": 72,
   "metadata": {},
   "outputs": [
    {
     "name": "stdout",
     "output_type": "stream",
     "text": [
      "None\n"
     ]
    }
   ],
   "source": [
    "print(test.tables['company'].properties['CompanyName'])"
   ]
  },
  {
   "cell_type": "markdown",
   "metadata": {},
   "source": [
    "#### Set CompanyName property within company table to \"TestCompany\""
   ]
  },
  {
   "cell_type": "code",
   "execution_count": 73,
   "metadata": {},
   "outputs": [
    {
     "name": "stdout",
     "output_type": "stream",
     "text": [
      "TestCompany\n"
     ]
    }
   ],
   "source": [
    "test.tables['company'].properties['CompanyName'] = \"TestCompany\"\n",
    "print(test.tables['company'].properties['CompanyName'])"
   ]
  },
  {
   "cell_type": "markdown",
   "metadata": {},
   "source": [
    "### Get services table from appointment table properties using ServiceId\n",
    "- this will return the services table object rather than None, since ServiceId is a foreign key"
   ]
  },
  {
   "cell_type": "code",
   "execution_count": 76,
   "metadata": {},
   "outputs": [
    {
     "name": "stdout",
     "output_type": "stream",
     "text": [
      "<__main__.Table object at 0x7f9c76c3b090>\n",
      "services\n",
      "{'ServiceId': {'COLUMN_NAME': 'ServiceId', 'DATA_TYPE': 'int', 'COLUMN_KEY': 'PRI', 'COLUMN_TYPE': 'int(11)', 'EXTRA': 'auto_increment'}, 'ServiceName': {'COLUMN_NAME': 'ServiceName', 'DATA_TYPE': 'text', 'COLUMN_KEY': '', 'COLUMN_TYPE': 'text', 'EXTRA': ''}, 'Cost': {'COLUMN_NAME': 'Cost', 'DATA_TYPE': 'int', 'COLUMN_KEY': '', 'COLUMN_TYPE': 'int(11)', 'EXTRA': ''}, 'Duration': {'COLUMN_NAME': 'Duration', 'DATA_TYPE': 'int', 'COLUMN_KEY': '', 'COLUMN_TYPE': 'int(11)', 'EXTRA': ''}, 'CompanyId': {'COLUMN_NAME': 'CompanyId', 'DATA_TYPE': 'int', 'COLUMN_KEY': 'MUL', 'COLUMN_TYPE': 'int(11)', 'EXTRA': ''}}\n",
      "{'ServiceId': None, 'ServiceName': None, 'Cost': None, 'Duration': None, 'CompanyId': <__main__.Table object at 0x7f9c76ee0d10>}\n"
     ]
    }
   ],
   "source": [
    "services_table = test.tables['appointment'].properties['ServiceId']\n",
    "print(services_table)\n",
    "print(services_table.name)\n",
    "print(services_table.columns)\n",
    "print(services_table.properties)"
   ]
  },
  {
   "cell_type": "code",
   "execution_count": null,
   "metadata": {},
   "outputs": [],
   "source": []
  }
 ],
 "metadata": {
  "kernelspec": {
   "display_name": "Python 3",
   "language": "python",
   "name": "python3"
  },
  "language_info": {
   "codemirror_mode": {
    "name": "ipython",
    "version": 3
   },
   "file_extension": ".py",
   "mimetype": "text/x-python",
   "name": "python",
   "nbconvert_exporter": "python",
   "pygments_lexer": "ipython3",
   "version": "3.7.6"
  }
 },
 "nbformat": 4,
 "nbformat_minor": 4
}
